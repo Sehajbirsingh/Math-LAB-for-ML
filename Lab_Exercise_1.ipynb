{
  "cells": [
    {
      "cell_type": "markdown",
      "metadata": {
        "id": "view-in-github",
        "colab_type": "text"
      },
      "source": [
        "<a href=\"https://colab.research.google.com/github/Sehajbirsingh/Math-LAB-for-ML/blob/main/Lab_Exercise_1.ipynb\" target=\"_parent\"><img src=\"https://colab.research.google.com/assets/colab-badge.svg\" alt=\"Open In Colab\"/></a>"
      ]
    },
    {
      "cell_type": "markdown",
      "metadata": {
        "id": "ce4Xo1UaYd3O"
      },
      "source": [
        "<p style=\"font-family: Arial; font-size:3em;color:black;\"> Lab Exercise 1 </p>"
      ]
    },
    {
      "cell_type": "code",
      "execution_count": 2,
      "metadata": {
        "id": "rQd2waBmYd3R"
      },
      "outputs": [],
      "source": [
        "# importing numpy\n",
        "import numpy as np"
      ]
    },
    {
      "cell_type": "code",
      "execution_count": 4,
      "metadata": {
        "colab": {
          "base_uri": "https://localhost:8080/"
        },
        "id": "5wzo8OTnYd3S",
        "outputId": "4c7ef104-4af4-41d6-cab6-5a626cc7a676"
      },
      "outputs": [
        {
          "output_type": "stream",
          "name": "stdout",
          "text": [
            "[1 2 3 5 0]\n",
            "False\n"
          ]
        }
      ],
      "source": [
        "# Create a numpy array with the elements \"1, 2, 3, 5, 0\", print the array and test if all of its elements are non-zero.\n",
        "array = np.array([1, 2, 3, 5, 0])\n",
        "print(array)\n",
        "print(np.all(array))"
      ]
    },
    {
      "cell_type": "code",
      "execution_count": 5,
      "metadata": {
        "colab": {
          "base_uri": "https://localhost:8080/"
        },
        "id": "LeurQYl-Yd3T",
        "outputId": "7393d4e0-ee52-478f-a3d7-76c222ae11c2"
      },
      "outputs": [
        {
          "output_type": "stream",
          "name": "stdout",
          "text": [
            "[ 3 -1  3  7  2]\n",
            "True\n"
          ]
        }
      ],
      "source": [
        "# Create a numpy array with the elements \"3, -1, 3, 7, 2\", print the array and test if any of its elements is non-zero.\n",
        "array = np.array([3, -1, 3, 7, 2])\n",
        "print(array)\n",
        "print(np.any(array))"
      ]
    },
    {
      "cell_type": "code",
      "execution_count": 6,
      "metadata": {
        "colab": {
          "base_uri": "https://localhost:8080/"
        },
        "id": "pAfN8e3rYd3T",
        "outputId": "8516168d-839f-468b-d6f9-eaefe21cfb10"
      },
      "outputs": [
        {
          "output_type": "stream",
          "name": "stdout",
          "text": [
            "[0 0 0 0]\n",
            "False\n"
          ]
        }
      ],
      "source": [
        "# Create a numpy array with the elements \"0, 0, 0, 0\", print the array and test if any of its elements is non-zero.\n",
        "array = np.array([0, 0, 0, 0])\n",
        "print(array)\n",
        "print(np.any(array))"
      ]
    },
    {
      "cell_type": "code",
      "execution_count": 7,
      "metadata": {
        "colab": {
          "base_uri": "https://localhost:8080/"
        },
        "id": "xkRyis5NYd3U",
        "outputId": "f3ca491b-7fd7-450f-b109-a898a013770d"
      },
      "outputs": [
        {
          "output_type": "stream",
          "name": "stdout",
          "text": [
            "[56 -2  7]\n",
            "24\n"
          ]
        }
      ],
      "source": [
        "# Create a numpy array with the elements \"56, -2, 7\", print the array and the amount of memory required to store it.\n",
        "array = np.array([56, -2, 7])\n",
        "print(array)\n",
        "print(array.nbytes)"
      ]
    },
    {
      "cell_type": "code",
      "execution_count": 10,
      "metadata": {
        "colab": {
          "base_uri": "https://localhost:8080/"
        },
        "id": "xsE2gEp5Yd3U",
        "outputId": "7faff2bc-863b-4fb8-c374-87cf411384b0"
      },
      "outputs": [
        {
          "output_type": "stream",
          "name": "stdout",
          "text": [
            "[0 0 0 0 0 0 0 0 0 0]\n",
            "[1 1 1 1 1 1]\n",
            "[3 3 3 3 3 3 3 3 3 3 3 3]\n"
          ]
        }
      ],
      "source": [
        "# Create a numpy array with 10 zeros and print the array.\n",
        "array = np.zeros(10,dtype=int)\n",
        "print(array)\n",
        "\n",
        "\n",
        "# Create a numpy array with 6 ones and print the array.\n",
        "array = np.ones(6,dtype=int)\n",
        "print(array)\n",
        "\n",
        "# Create a numpy array with 12 '3's and print the array. [3 3 3 3 3 3 3 3 3 3 3 3]\n",
        "array = np.full(12, 3)\n",
        "print(array)\n",
        "\n"
      ]
    },
    {
      "cell_type": "code",
      "execution_count": 11,
      "metadata": {
        "colab": {
          "base_uri": "https://localhost:8080/"
        },
        "id": "mRC-6C5pYd3V",
        "outputId": "f80cc9f4-10b4-44a5-8e74-af3acfaef549"
      },
      "outputs": [
        {
          "output_type": "stream",
          "name": "stdout",
          "text": [
            "[ 8  9 10 11 12 13 14 15 16 17 18 19 20]\n",
            "[ 8 10 12 14 16 18 20]\n"
          ]
        }
      ],
      "source": [
        "# Create a numpy array of the integers from 8 to 20 and print the array. (make sure 20 itself is included) hint:  use \"arange\" method\n",
        "array = np.arange(8, 21)\n",
        "print(array)\n",
        "\n",
        "# Create a numpy array of the even integers from 8 to 20 and print the array. (make sure 20 itself is included)   hint:  use \"arange\" method\n",
        "array = np.arange(8, 21, 2)\n",
        "print(array)\n"
      ]
    },
    {
      "cell_type": "code",
      "execution_count": 13,
      "metadata": {
        "colab": {
          "base_uri": "https://localhost:8080/"
        },
        "id": "XDkNanVUYd3V",
        "outputId": "34cec808-0e51-4ff6-c64d-ac526196ce9d"
      },
      "outputs": [
        {
          "output_type": "stream",
          "name": "stdout",
          "text": [
            "1.9936593858918379\n",
            "3.1373712138154017\n",
            "0.6899794228251845\n",
            "0.54019410852423\n",
            "2.0051620465795668\n",
            "3.4404757922968336\n",
            "0.4756526976265887\n",
            "0.47958780715358995\n",
            "1.9996564749567498\n",
            "4.563641536164711\n",
            "-0.34996681204907265\n",
            "0.49983823299089986\n"
          ]
        }
      ],
      "source": [
        "# Create a numpy array consisting of 100 random elements from normal distribution with mean of 2 and std of 0.5. Print the mean, max, min and std of the array.\n",
        "array = np.random.normal(2, 0.5, 100)\n",
        "print(np.mean(array))\n",
        "print(np.max(array))\n",
        "print(np.min(array))\n",
        "print(np.std(array))\n",
        "\n",
        "# Create a numpy array consisting of 1000 random elements from normal distribution with mean of 2 and std of 0.5. Print the mean, max, min and std of the array.\n",
        "array = np.random.normal(2, 0.5, 1000)\n",
        "print(np.mean(array))\n",
        "print(np.max(array))\n",
        "print(np.min(array))\n",
        "print(np.std(array))\n",
        "\n",
        "# Create a numpy array consisting of 1000000 random elements from normal distribution with mean of 2 and std of 0.5. Print the mean, max, min and std of the array.\n",
        "array = np.random.normal(2, 0.5, 1000000)\n",
        "print(np.mean(array))\n",
        "print(np.max(array))\n",
        "print(np.min(array))\n",
        "print(np.std(array))\n",
        "\n",
        "# (Bonus question) Looking at the three above examples with 1000, 5000, and 10000 random elements, do you have any observations about mean and std values?\n"
      ]
    },
    {
      "cell_type": "code",
      "source": [],
      "metadata": {
        "id": "oAA_L3cId-D5"
      },
      "execution_count": null,
      "outputs": []
    }
  ],
  "metadata": {
    "kernelspec": {
      "display_name": "Python 3 (ipykernel)",
      "language": "python",
      "name": "python3"
    },
    "language_info": {
      "codemirror_mode": {
        "name": "ipython",
        "version": 3
      },
      "file_extension": ".py",
      "mimetype": "text/x-python",
      "name": "python",
      "nbconvert_exporter": "python",
      "pygments_lexer": "ipython3",
      "version": "3.9.7"
    },
    "colab": {
      "provenance": [],
      "include_colab_link": true
    }
  },
  "nbformat": 4,
  "nbformat_minor": 0
}