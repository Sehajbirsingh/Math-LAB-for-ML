{
  "cells": [
    {
      "cell_type": "markdown",
      "metadata": {
        "id": "view-in-github",
        "colab_type": "text"
      },
      "source": [
        "<a href=\"https://colab.research.google.com/github/Sehajbirsingh/Math-LAB-for-ML/blob/main/Lab_Exercise_2.ipynb\" target=\"_parent\"><img src=\"https://colab.research.google.com/assets/colab-badge.svg\" alt=\"Open In Colab\"/></a>"
      ]
    },
    {
      "cell_type": "markdown",
      "metadata": {
        "id": "84Ng7l_Lho8P"
      },
      "source": [
        "## <p style=\"font-family: Arial; font-size:3em;color:black;\"> Lab Exercise 2 </p>"
      ]
    },
    {
      "cell_type": "code",
      "execution_count": null,
      "metadata": {
        "colab": {
          "base_uri": "https://localhost:8080/",
          "height": 430
        },
        "id": "zYxDl3m5ho8T",
        "outputId": "13e52351-6fd3-4a91-c8cb-ff53e2514a99"
      },
      "outputs": [
        {
          "output_type": "display_data",
          "data": {
            "text/plain": [
              "<Figure size 640x480 with 1 Axes>"
            ],
            "image/png": "[encoded data removed]"
          },
          "metadata": {}
        }
      ],
      "source": [
        "%matplotlib inline\n",
        "import numpy as np\n",
        "import matplotlib.pyplot as plt\n",
        "\n",
        "# # of hours a AI student spends on their courses in a month\n",
        "np.random.seed(10)\n",
        "no_hours = np.random.normal(40.0, 10.0, 10000)\n",
        "\n",
        "plt.hist(no_hours, 500)\n",
        "plt.show()"
      ]
    },
    {
      "cell_type": "code",
      "execution_count": null,
      "metadata": {
        "colab": {
          "base_uri": "https://localhost:8080/",
          "height": 87
        },
        "id": "aeXi7TkMho8X",
        "outputId": "c0f9211c-2660-484a-bd7f-89fb23fab68c"
      },
      "outputs": [
        {
          "output_type": "stream",
          "name": "stdout",
          "text": [
            "Mean:  40.05102056001915\n",
            "Standard Deviation:  9.896640127716951\n",
            "Variance:  97.94348581753738\n"
          ]
        },
        {
          "output_type": "execute_result",
          "data": {
            "text/plain": [
              "'By experimenting with different parameter values, you can observe how the shape and characteristics of the generated data change. This can be useful for understanding the impact of different parameters on the simulated data.'"
            ],
            "application/vnd.google.colaboratory.intrinsic+json": {
              "type": "string"
            }
          },
          "metadata": {},
          "execution_count": 4
        }
      ],
      "source": [
        "# Calculate and report the mean, std, and var of the data shown above.\n",
        "print(\"Mean: \", np.mean(no_hours))\n",
        "print(\"Standard Deviation: \", np.std(no_hours))\n",
        "print(\"Variance: \", np.var(no_hours))\n",
        "\n",
        "# What is the theoretical relationship between std and var? Do the numbers reperted in the previous step agree with your expectation?\n",
        "\"\"\"The variance is the square of the standard deviation. Mathematically, variance = std_dev**2.\"\"\"\n",
        "\n",
        "# Begin changing the different parameters on the normal function, discuss your observations as you change each input parameter.\n",
        "\"\"\"By experimenting with different parameter values, you can observe how the shape and characteristics of the generated data change. This can be useful for understanding the impact of different parameters on the simulated data.\"\"\""
      ]
    },
    {
      "cell_type": "code",
      "source": [],
      "metadata": {
        "id": "0oHGvM3HiBVI"
      },
      "execution_count": null,
      "outputs": []
    }
  ],
  "metadata": {
    "kernelspec": {
      "display_name": "Python 3 (ipykernel)",
      "language": "python",
      "name": "python3"
    },
    "language_info": {
      "codemirror_mode": {
        "name": "ipython",
        "version": 3
      },
      "file_extension": ".py",
      "mimetype": "text/x-python",
      "name": "python",
      "nbconvert_exporter": "python",
      "pygments_lexer": "ipython3",
      "version": "3.9.7"
    },
    "colab": {
      "provenance": [],
      "include_colab_link": true
    }
  },
  "nbformat": 4,
  "nbformat_minor": 0
}