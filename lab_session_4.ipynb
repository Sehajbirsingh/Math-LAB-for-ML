{
  "nbformat": 4,
  "nbformat_minor": 0,
  "metadata": {
    "colab": {
      "provenance": [],
      "authorship_tag": "ABX9TyNbcrpd7w1spvDQKCORpWhQ",
      "include_colab_link": true
    },
    "kernelspec": {
      "name": "python3",
      "display_name": "Python 3"
    },
    "language_info": {
      "name": "python"
    }
  },
  "cells": [
    {
      "cell_type": "markdown",
      "metadata": {
        "id": "view-in-github",
        "colab_type": "text"
      },
      "source": [
        "<a href=\"https://colab.research.google.com/github/Sehajbirsingh/Math-LAB-for-ML/blob/main/lab_session_4.ipynb\" target=\"_parent\"><img src=\"https://colab.research.google.com/assets/colab-badge.svg\" alt=\"Open In Colab\"/></a>"
      ]
    },
    {
      "cell_type": "code",
      "execution_count": 1,
      "metadata": {
        "colab": {
          "base_uri": "https://localhost:8080/"
        },
        "id": "H7OB-mCkrUpj",
        "outputId": "fa682384-e443-4694-de97-10a1656da38d"
      },
      "outputs": [
        {
          "output_type": "stream",
          "name": "stdout",
          "text": [
            "   airport  art  college  driver  learning  life  machine  museum  student  \\\n",
            "0        0    0        1       0         0     0        0       0        1   \n",
            "1        1    0        0       1         0     0        0       0        0   \n",
            "2        0    1        0       0         0     0        0       1        0   \n",
            "3        0    1        0       0         0     1        0       0        0   \n",
            "4        0    0        0       0         1     0        1       0        1   \n",
            "\n",
            "   taxi  toronto  \n",
            "0     0        0  \n",
            "1     1        0  \n",
            "2     0        1  \n",
            "3     0        0  \n",
            "4     0        0  \n"
          ]
        }
      ],
      "source": [
        "from sklearn.feature_extraction.text import CountVectorizer\n",
        "\n",
        "# List of phrases\n",
        "phrases = [\n",
        "    \"college student\",\n",
        "    \"airport taxi driver\",\n",
        "    \"Toronto art museum\",\n",
        "    \"life art\",\n",
        "    \"machine learning student\"\n",
        "]\n",
        "\n",
        "# Initialize the CountVectorizer\n",
        "vectorizer = CountVectorizer()\n",
        "\n",
        "# Fit and transform the phrases to BoW matrix\n",
        "X = vectorizer.fit_transform(phrases)\n",
        "\n",
        "# Convert the BoW matrix to an array for easy visualization\n",
        "bow_matrix = X.toarray()\n",
        "\n",
        "# Get the feature names (words)\n",
        "words = vectorizer.get_feature_names_out()\n",
        "\n",
        "# Display the BoW matrix with words\n",
        "import pandas as pd\n",
        "df_bow = pd.DataFrame(bow_matrix, columns=words)\n",
        "print(df_bow)"
      ]
    },
    {
      "cell_type": "code",
      "source": [
        "from sklearn.feature_extraction.text import TfidfVectorizer\n",
        "import numpy as np\n",
        "\n",
        "# Use TfidfVectorizer to get IDF values (without calculating the full TF-IDF scores)\n",
        "tfidf_vectorizer = TfidfVectorizer(use_idf=True)\n",
        "\n",
        "# Fit the vectorizer on the phrases\n",
        "tfidf_vectorizer.fit(phrases)\n",
        "\n",
        "# Get the IDF scores\n",
        "idf_values = dict(zip(tfidf_vectorizer.get_feature_names_out(), tfidf_vectorizer.idf_))\n",
        "\n",
        "# Extract IDF for \"college\" and \"art\"\n",
        "idf_college = idf_values.get('college', np.nan)\n",
        "idf_art = idf_values.get('art', np.nan)\n",
        "\n",
        "print(f\"IDF for 'college': {idf_college}\")\n",
        "print(f\"IDF for 'art': {idf_art}\")\n"
      ],
      "metadata": {
        "colab": {
          "base_uri": "https://localhost:8080/"
        },
        "id": "MftAilFIrWFt",
        "outputId": "a494cf3b-b5e8-4f9e-f8e8-5465bed7a55c"
      },
      "execution_count": 2,
      "outputs": [
        {
          "output_type": "stream",
          "name": "stdout",
          "text": [
            "IDF for 'college': 2.09861228866811\n",
            "IDF for 'art': 1.6931471805599454\n"
          ]
        }
      ]
    },
    {
      "cell_type": "code",
      "source": [],
      "metadata": {
        "id": "yz2cQe3yrjJP"
      },
      "execution_count": null,
      "outputs": []
    }
  ]
}